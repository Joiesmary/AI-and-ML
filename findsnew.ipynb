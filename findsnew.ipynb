{
 "cells": [
  {
   "cell_type": "code",
   "execution_count": 1,
   "id": "121c5a6f",
   "metadata": {},
   "outputs": [
    {
     "name": "stdout",
     "output_type": "stream",
     "text": [
      "\n",
      "The given training examples are:\n",
      "['weather', 'temperature', 'Humidity', 'wind', 'goes']\n",
      "['Sunny', 'Warm', 'Normal', 'Strong', 'Yes']\n",
      "['Sunny', 'Warm', 'Normal', 'Strong', 'No']\n",
      "['Sunny', 'cold', 'Normal', 'Strong', 'Yes']\n",
      "['Sunny', 'warm', 'Normal', 'Strong', 'Yes']\n"
     ]
    }
   ],
   "source": [
    "\n",
    "# 1 FIND-Salgorithm\n",
    "import csv  \n",
    "#hypo=['%','%','%','%','%','%'] \n",
    "with open('cs.csv') as csv_file:  \n",
    "    readcsv = csv.reader(csv_file, delimiter=',') \n",
    "    data=[]  \n",
    "    print(\"\\nThe given training examples are:\")  \n",
    "    for row in readcsv:     \n",
    "        print(row)  \n",
    "        if row[len(row)-1] =='Yes':    \n",
    "            data.append(row) "
   ]
  },
  {
   "cell_type": "code",
   "execution_count": 2,
   "id": "616720a0",
   "metadata": {},
   "outputs": [
    {
     "name": "stdout",
     "output_type": "stream",
     "text": [
      "\n",
      "The positive examples are:\n",
      "['Sunny', 'Warm', 'Normal', 'Strong', 'Yes']\n",
      "['Sunny', 'cold', 'Normal', 'Strong', 'Yes']\n",
      "['Sunny', 'warm', 'Normal', 'Strong', 'Yes']\n"
     ]
    }
   ],
   "source": [
    "print(\"\\nThe positive examples are:\")\n",
    "for x in data:  \n",
    "    print(x) "
   ]
  },
  {
   "cell_type": "code",
   "execution_count": 3,
   "id": "5c9b3fce",
   "metadata": {},
   "outputs": [
    {
     "data": {
      "text/plain": [
       "3"
      ]
     },
     "execution_count": 3,
     "metadata": {},
     "output_type": "execute_result"
    }
   ],
   "source": [
    "TotalExamples=len(data) \n",
    "TotalExamples"
   ]
  },
  {
   "cell_type": "code",
   "execution_count": 4,
   "id": "ef7fbd19",
   "metadata": {},
   "outputs": [
    {
     "data": {
      "text/plain": [
       "['Sunny', 'Warm', 'Normal', 'Strong']"
      ]
     },
     "execution_count": 4,
     "metadata": {},
     "output_type": "execute_result"
    }
   ],
   "source": [
    "i=0\n",
    "hypo=[]\n",
    "d=len(data[0])-1\n",
    "for j in range(d):  \n",
    "    hypo.append(data[i][j])\n",
    "hypo"
   ]
  },
  {
   "cell_type": "code",
   "execution_count": 5,
   "id": "29a59e54",
   "metadata": {},
   "outputs": [
    {
     "name": "stdout",
     "output_type": "stream",
     "text": [
      "['Sunny', '?', 'Normal', 'Strong']\n"
     ]
    }
   ],
   "source": [
    "for i in range(TotalExamples):   \n",
    "    for k in range(d): \n",
    "        if hypo[k]!=data[i][k]: \n",
    "            hypo[k]='?'\n",
    "        else:    \n",
    "            hypo[k] \n",
    "print(hypo)"
   ]
  },
  {
   "cell_type": "code",
   "execution_count": null,
   "id": "b59a6a23",
   "metadata": {},
   "outputs": [],
   "source": []
  }
 ],
 "metadata": {
  "kernelspec": {
   "display_name": "Python 3 (ipykernel)",
   "language": "python",
   "name": "python3"
  },
  "language_info": {
   "codemirror_mode": {
    "name": "ipython",
    "version": 3
   },
   "file_extension": ".py",
   "mimetype": "text/x-python",
   "name": "python",
   "nbconvert_exporter": "python",
   "pygments_lexer": "ipython3",
   "version": "3.9.13"
  }
 },
 "nbformat": 4,
 "nbformat_minor": 5
}
