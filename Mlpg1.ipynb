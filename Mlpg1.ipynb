{
 "cells": [
  {
   "cell_type": "code",
   "execution_count": 37,
   "metadata": {},
   "outputs": [
    {
     "name": "stdout",
     "output_type": "stream",
     "text": [
      "The given data set is:\n",
      "   weather temperature Humidity    wind  Yes\n",
      "0   Sunny        Warm   Normal  Strong  Yes\n",
      "1   Sunny        Warm   Normal  Strong   No\n",
      "2   Sunny        cold   Normal  Strong  Yes\n",
      "The attributes are:\n",
      " [['Sunny' 'Warm' 'Normal' 'Strong']\n",
      " ['Sunny' 'Warm' 'Normal' 'Strong']\n",
      " ['Sunny' 'cold' 'Normal' 'Strong']]\n",
      "The target is:  ['Yes' 'No' 'Yes']\n",
      "The final hypothesis is: ['Sunny' '?' 'Normal' 'Strong']\n"
     ]
    }
   ],
   "source": [
    "import pandas as pd\n",
    "import numpy as np\n",
    " \n",
    "#to read the data in the csv file\n",
    "data = pd.read_csv(\"cs.csv\")\n",
    "print(\"The given data set is:\\n\",data)\n",
    " \n",
    "#making an array of all the attributes\n",
    "d = np.array(data)[:,:-1]\n",
    "print(\"The attributes are:\\n\",d)\n",
    " \n",
    "#segragating the target that has positive and negative examples\n",
    "target = np.array(data)[:,-1]\n",
    "print(\"The target is: \",target)\n",
    " \n",
    "#training function to implement find-s algorithm\n",
    "def train(c,t):\n",
    "    for i, val in enumerate(t):\n",
    "        if val == \"Yes\":\n",
    "            specific_hypothesis = c[i].copy()\n",
    "            break\n",
    "             \n",
    "    for i, val in enumerate(c):\n",
    "        if t[i] == \"Yes\":\n",
    "            for x in range(len(specific_hypothesis)):\n",
    "                if val[x] != specific_hypothesis[x]:\n",
    "                    specific_hypothesis[x] = '?'\n",
    "                else:\n",
    "                    pass\n",
    "                 \n",
    "    return specific_hypothesis\n",
    " \n",
    "#obtaining the final hypothesis\n",
    "print(\"The final hypothesis is:\",train(d,target))"
   ]
  },
  {
   "cell_type": "code",
   "execution_count": null,
   "metadata": {},
   "outputs": [],
   "source": [
    "if row[len(row)-1]=='Yes':\n",
    "        data.append(row)\n",
    "        print(\"\\n The positive examples are:\")\n",
    "    for x in data:\n",
    "        print(x)\n",
    "        TotalExamples=len(data)\n",
    "        i=0\n",
    "        j=0\n",
    "        k=0\n",
    "    print(\"\\n The steps of the Find-s algorithm are\\n\",hypo)\n",
    "        list=[]\n",
    "        p=0\n",
    "        d=len(data[p])-1\n",
    "        for j in range(d):\n",
    "            list.append(data[i][j])\n",
    "            hypo=list\n",
    "            for i in range(1,TotalExamples):\n",
    "                for k in range(d):\n",
    "                    if hypo[k]!=data[i][k]:\n",
    "                        hypo[k]='?'\n",
    "                    else:\n",
    "                        hypo[k]\n",
    "                        print(hypo)\n",
    "                        print(\"\\n The maximally specific Find-s hypothesis for the given trainoing example is\");\n",
    "                        list=[]\n",
    "            for i in range(d):\n",
    "                list.append(hypo[i])\n",
    "                print(list)"
   ]
  }
 ],
 "metadata": {
  "kernelspec": {
   "display_name": "Python 3",
   "language": "python",
   "name": "python3"
  },
  "language_info": {
   "codemirror_mode": {
    "name": "ipython",
    "version": 3
   },
   "file_extension": ".py",
   "mimetype": "text/x-python",
   "name": "python",
   "nbconvert_exporter": "python",
   "pygments_lexer": "ipython3",
   "version": "3.8.5"
  }
 },
 "nbformat": 4,
 "nbformat_minor": 4
}
